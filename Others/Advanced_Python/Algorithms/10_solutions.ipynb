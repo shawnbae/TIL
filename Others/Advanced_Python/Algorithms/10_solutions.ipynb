{
 "cells": [
  {
   "cell_type": "markdown",
   "metadata": {},
   "source": [
    "# 1. 같은 알파벳으로 이루어진 문자열 범벅 골라내기 (anagram)"
   ]
  },
  {
   "cell_type": "code",
   "execution_count": 24,
   "metadata": {},
   "outputs": [],
   "source": [
    "s1 = \"danger\"\n",
    "s2 = \"garden\""
   ]
  },
  {
   "cell_type": "code",
   "execution_count": 32,
   "metadata": {},
   "outputs": [
    {
     "name": "stdout",
     "output_type": "stream",
     "text": [
      "True\n",
      "True\n"
     ]
    }
   ],
   "source": [
    "from collections import Counter\n",
    "\n",
    "# 두 anagram의 구성 요소가 같은지 반환\n",
    "def are_anagrams_1(s1, s2):\n",
    "    if len(s1) != len(s2):\n",
    "        return False\n",
    "    return Counter(s1) == Counter(s2)\n",
    "\n",
    "# 두 anagram의 sorting 결과가 같은지 반환\n",
    "def are_anagrams_2(s1, s2):\n",
    "    if len(s1) != len(s2):\n",
    "        return False\n",
    "    return sorted(s1) == sorted(s2)\n",
    "\n",
    "print(are_anagrams_1(s1, s2))\n",
    "print(are_anagrams_2(s1, s2))"
   ]
  },
  {
   "cell_type": "code",
   "execution_count": 31,
   "metadata": {},
   "outputs": [
    {
     "data": {
      "text/plain": [
       "True"
      ]
     },
     "execution_count": 31,
     "metadata": {},
     "output_type": "execute_result"
    }
   ],
   "source": [
    "# Counter를 사용하지 않은 경우\n",
    "def are_anagrams(s1,s2):\n",
    "    if len(s1) != len(s2):\n",
    "        return False\n",
    "    freq1 = {}\n",
    "    freq2 = {}\n",
    "    for ch in s1:\n",
    "        if ch in freq1:\n",
    "            freq1[ch] += 1\n",
    "        else:\n",
    "            freq1[ch] = 1   \n",
    "    for ch in s2:\n",
    "        if ch in freq2:\n",
    "            freq2[ch] += 1\n",
    "        else:\n",
    "            freq2[ch] = 1\n",
    "    for key in freq1:\n",
    "        if key not in freq2 or freq2[key] != freq2[key]:\n",
    "            return False\n",
    "    return True\n",
    "\n",
    "are_anagrams(s1, s2)"
   ]
  },
  {
   "cell_type": "markdown",
   "metadata": {},
   "source": [
    "# 2. 첫번째 / 마지막 index 찾기"
   ]
  },
  {
   "cell_type": "code",
   "execution_count": 56,
   "metadata": {},
   "outputs": [
    {
     "name": "stdout",
     "output_type": "stream",
     "text": [
      "[4, 6]\n",
      "4\n",
      "6\n",
      "[4, 6]\n"
     ]
    }
   ],
   "source": [
    "test_arr = [1,2,2,3,5,5,5,6,8,9,11,13]\n",
    "\n",
    "def first_and_last(arr, target):\n",
    "    for i in range(len(arr)):\n",
    "        if arr[i] == target:\n",
    "            start = i\n",
    "            while i+1 < len(arr) and arr[i+1] == target:\n",
    "                i += 1\n",
    "            return [start, i]\n",
    "    return [-1, -1]\n",
    "\n",
    "# 이진 분할로 첫 번째 target의 index를 찾아내는 방법\n",
    "def find_start(arr, target):\n",
    "    if arr[0] == target:\n",
    "        return 0\n",
    "    left, right = 0, len(arr)-1\n",
    "    while left <= right:\n",
    "        mid = (left+right)//2\n",
    "        if arr[mid] == target and arr[mid-1] < target:\n",
    "            return mid\n",
    "        elif arr[mid] < target:\n",
    "            left = mid+1\n",
    "        else:\n",
    "            right = mid-1\n",
    "    return -1\n",
    "\n",
    "# 이진 분할로 마지막 target의 index를 찾아내는 방법\n",
    "def find_end(arr, target):\n",
    "    if arr[-1] == target:\n",
    "        return len(arr)-1\n",
    "    left, right = 0, len(arr)-1\n",
    "    while left <= right:\n",
    "        mid = (left+right)//2\n",
    "        if arr[mid] == target and arr[mid+1] > target:\n",
    "            return mid\n",
    "        elif arr[mid] > target:\n",
    "            right = mid-1\n",
    "        else:\n",
    "            left = mid+1\n",
    "    return -1\n",
    "\n",
    "def first_and_last(arr, target):\n",
    "    if len(arr) == 0 or arr[0] > target or arr[-1] < target:\n",
    "        return [-1, -1]\n",
    "    start = find_start(arr, target)\n",
    "    end = find_end(arr, target)\n",
    "    return [start, end]\n",
    "\n",
    "print(first_and_last(test_arr, 5))\n",
    "print(find_start(test_arr, 5))\n",
    "print(find_end(test_arr, 5))\n",
    "print(first_and_last(test_arr, 5))"
   ]
  },
  {
   "cell_type": "markdown",
   "metadata": {},
   "source": [
    "# 3. k번째로 큰 수 찾기"
   ]
  },
  {
   "cell_type": "code",
   "execution_count": 73,
   "metadata": {},
   "outputs": [
    {
     "name": "stdout",
     "output_type": "stream",
     "text": [
      "32\n",
      "32\n",
      "32\n"
     ]
    }
   ],
   "source": [
    "# 3- K번째로 큰 수 찾기\n",
    "# max함수를 이용하여 큰 수부터 제거하는 방법\n",
    "def kth_largest(arr, k):\n",
    "    for i in range(k-1):\n",
    "        arr.remove(max(arr))\n",
    "    return max(arr)\n",
    "\n",
    "arr = [100,3,12,32,5,13,6,54]\n",
    "print(kth_largest(arr, 3))\n",
    "\n",
    "# sort함수와 indexing을 활용하여 찾아내는 방법\n",
    "def kth_largest(arr, k):\n",
    "    n = len(arr)\n",
    "    arr.sort()\n",
    "    return arr[n-k]\n",
    "\n",
    "arr = [100,3,12,32,5,13,6,54]\n",
    "print(kth_largest(arr, 3))\n",
    "\n",
    "# Heaq정렬을 이용한 방법\n",
    "# -로 치환하여 역순으로 바꾼 뒤 left pop iteration 수행\n",
    "import heapq\n",
    "\n",
    "def kth_largest(arr, k):\n",
    "    arr = [-elem for elem in arr]\n",
    "    heapq.heapify(arr)\n",
    "    for i in range(k - 1):\n",
    "        heapq.heappop(arr)\n",
    "    return -heapq.heappop(arr)\n",
    "\n",
    "arr = [100,3,12,32,5,13,6,54]\n",
    "print(kth_largest(arr, 3))"
   ]
  },
  {
   "cell_type": "markdown",
   "metadata": {},
   "source": [
    "# 4. Symmetric Tree"
   ]
  },
  {
   "cell_type": "code",
   "execution_count": 135,
   "metadata": {},
   "outputs": [],
   "source": [
    "# binary Tree가 symmetric한지 체크하는 함수\n",
    "def are_symmetric(root1, root2):\n",
    "    if root1 is None and root2 is None:\n",
    "        return True\n",
    "    elif ((root1 is None) != (root2 is None)) or root1.val != root2.val:\n",
    "        return False\n",
    "    else:\n",
    "        return are_symmetric(root1.left, root2.right) and are_symmetric(root1.right, root2.left)\n",
    "\n",
    "def is_symmetric(root):\n",
    "    if root is None:\n",
    "        return True\n",
    "    return are_symmetric(root.left, root.right)"
   ]
  },
  {
   "cell_type": "markdown",
   "metadata": {},
   "source": [
    "# 5. Generate parentheses"
   ]
  },
  {
   "cell_type": "code",
   "execution_count": 136,
   "metadata": {},
   "outputs": [
    {
     "data": {
      "text/plain": [
       "['((((()))))',\n",
       " '(((()())))',\n",
       " '(((())()))',\n",
       " '(((()))())',\n",
       " '(((())))()',\n",
       " '((()(())))',\n",
       " '((()()()))',\n",
       " '((()())())',\n",
       " '((()()))()',\n",
       " '((())(()))',\n",
       " '((())()())',\n",
       " '((())())()',\n",
       " '((()))(())',\n",
       " '((()))()()',\n",
       " '(()((())))',\n",
       " '(()(()()))',\n",
       " '(()(())())',\n",
       " '(()(()))()',\n",
       " '(()()(()))',\n",
       " '(()()()())',\n",
       " '(()()())()',\n",
       " '(()())(())',\n",
       " '(()())()()',\n",
       " '(())((()))',\n",
       " '(())(()())',\n",
       " '(())(())()',\n",
       " '(())()(())',\n",
       " '(())()()()',\n",
       " '()(((())))',\n",
       " '()((()()))',\n",
       " '()((())())',\n",
       " '()((()))()',\n",
       " '()(()(()))',\n",
       " '()(()()())',\n",
       " '()(()())()',\n",
       " '()(())(())',\n",
       " '()(())()()',\n",
       " '()()((()))',\n",
       " '()()(()())',\n",
       " '()()(())()',\n",
       " '()()()(())',\n",
       " '()()()()()']"
      ]
     },
     "execution_count": 136,
     "metadata": {},
     "output_type": "execute_result"
    }
   ],
   "source": [
    "# recursion function을 반복하여 생성\n",
    "# n: iternum\n",
    "# diff: # of ( or ) each\n",
    "def generate(n):\n",
    "    # parenthesis를 생성해내며 loop를 판별하는 함수\n",
    "    def rec(n, diff, comb, combs):\n",
    "        if diff < 0 or diff > n:\n",
    "            return\n",
    "        elif n == 0:\n",
    "            if diff == 0:\n",
    "                combs.append(''.join(comb)) # 생성된 combination을 list에 append\n",
    "        else:\n",
    "            comb.append('(')\n",
    "            rec(n-1, diff+1, comb, combs)\n",
    "            comb.pop() # (의 개수가 n을 넘어서면 recursion이 끊어지며 마지막 (를 pop\n",
    "            comb.append(')')\n",
    "            rec(n-1, diff-1, comb, combs)\n",
    "            comb.pop()            \n",
    "    combs = []\n",
    "    rec(2*n, 0, [], combs)\n",
    "    return combs\n",
    "\n",
    "generate(5)"
   ]
  },
  {
   "cell_type": "markdown",
   "metadata": {},
   "source": [
    "# 6. Gas station"
   ]
  },
  {
   "cell_type": "code",
   "execution_count": null,
   "metadata": {},
   "outputs": [],
   "source": [
    "def can_traverse(gas, cost, start):\n",
    "    n = len(gas)\n",
    "    remaining = 0\n",
    "    i = start\n",
    "    started = False\n",
    "    while i != start or not started:\n",
    "        started = True\n",
    "        remaining += gas[i] - cost[i]\n",
    "        if remaining < 0:\n",
    "            return False\n",
    "        i = (i+1)%n\n",
    "    return True\n",
    "\n",
    "\n",
    "def gas_station(gas, cost):\n",
    "    for i in range(len(gas)):\n",
    "        if can_traverse(gas, cost, i):\n",
    "            return i\n",
    "    return -1\n",
    "\n",
    "\n",
    "def gas_station(gas, cost):\n",
    "    remaining = 0\n",
    "    prev_remaining = 0\n",
    "    candidate = 0\n",
    "    for i in range(len(gas)):\n",
    "        remaining += gas[i] - cost[i]\n",
    "        if remaining < 0:\n",
    "            candidate = i+1\n",
    "            prev_remaining += remaining\n",
    "            remaining = 0\n",
    "    if candidate == len(gas) or remaining+prev_remaining < 0:\n",
    "        return -1\n",
    "    else:\n",
    "        return candidate"
   ]
  },
  {
   "cell_type": "markdown",
   "metadata": {},
   "source": [
    "# 7. Course Schedule"
   ]
  },
  {
   "cell_type": "code",
   "execution_count": null,
   "metadata": {},
   "outputs": [],
   "source": [
    "def dfs(graph, vertex, path, order, visited):\n",
    "    path.add(vertex)\n",
    "    for neighbor in graph[vertex]:\n",
    "        if neighbor in path:\n",
    "            return False\n",
    "        if neighbor not in visited:\n",
    "            visited.add(neighbor)\n",
    "            if not dfs(graph, neighbor, path, order, visited):\n",
    "                return False\n",
    "    path.remove(vertex)\n",
    "    order.append(vertex)\n",
    "    return True\n",
    "\n",
    "\n",
    "def course_schedule(n, prerequisites):\n",
    "    graph = [[] for i in range(n)]\n",
    "    for pre in prerequisites:\n",
    "        graph[pre[1]].append(pre[0])\n",
    "    visited = set()\n",
    "    path = set()\n",
    "    order = []\n",
    "    for course in range(n):\n",
    "        if course not in visited:\n",
    "            visited.add(course)\n",
    "            if not dfs(graph, course, path, order, visited):\n",
    "                return False\n",
    "    return True\n",
    "\n",
    "\n",
    "from collections import deque\n",
    "    \n",
    "def course_schedule(n, prerequisites):\n",
    "    graph = [[] for i in range(n)]\n",
    "    indegree = [0 for i in range(n)]\n",
    "    for pre in prerequisites:\n",
    "        graph[pre[1]].append(pre[0])\n",
    "        indegree[pre[0]] += 1\n",
    "    order = []\n",
    "    queue = deque([i for i in range(n) if indegree[i] == 0])\n",
    "    while queue:\n",
    "        vertex = queue.popleft()\n",
    "        order.append(vertex)\n",
    "        for neighbor in graph[vertex]:\n",
    "            indegree[neighbor] -= 1\n",
    "            if indegree[neighbor] == 0:\n",
    "                queue.append(neighbor)\n",
    "    return len(order) == n"
   ]
  },
  {
   "cell_type": "markdown",
   "metadata": {},
   "source": [
    "# 8. k-th Permutation"
   ]
  },
  {
   "cell_type": "code",
   "execution_count": 4,
   "metadata": {},
   "outputs": [],
   "source": [
    "import itertools\n",
    "\n",
    "def kth_permutation(n, k):\n",
    "    permutations = list(itertools.permutations(range(1, n+1)))\n",
    "    return ''.join(map(str, permutations[k-1]))\n",
    "\n",
    "\n",
    "def kth_permutation(n, k):\n",
    "    permutation = []\n",
    "    unused = list(range(1, n+1))\n",
    "    fact = [1]*(n+1)\n",
    "    for i in range(1, n+1):\n",
    "        fact[i] = i*fact[i-1]\n",
    "    k -= 1\n",
    "    while n > 0:\n",
    "        part_length = fact[n]//n\n",
    "        i = k//part_length\n",
    "        permutation.append(unused[i])\n",
    "        unused.pop(i)\n",
    "        n -= 1\n",
    "        k %= part_length\n",
    "    return ''.join(map(str, permutation))"
   ]
  },
  {
   "cell_type": "markdown",
   "metadata": {},
   "source": [
    "# 9. Minimum window substring"
   ]
  },
  {
   "cell_type": "code",
   "execution_count": null,
   "metadata": {},
   "outputs": [],
   "source": [
    "def contains_all(freq1, freq2):\n",
    "    for ch in freq2:\n",
    "        if freq1[ch] < freq2[ch]:\n",
    "            return False\n",
    "    return True\n",
    "\n",
    "\n",
    "def min_window(s, t):\n",
    "    n, m = len(s), len(t)\n",
    "    if m > n or m == 0:\n",
    "        return \"\"\n",
    "    freqt = Counter(t)\n",
    "    shortest = \" \"*(n+1)\n",
    "    for length in range(1, n+1):\n",
    "        for i in range(n-length+1):\n",
    "            sub = s[i:i+length]\n",
    "            freqs = Counter(sub)\n",
    "            if contains_all(freqs, freqt) and length < len(shortest):\n",
    "                shortest = sub\n",
    "    return shortest if len(shortest) <= n else \"\"\n",
    "\n",
    "\n",
    "def min_window(s, t):\n",
    "    n, m = len(s), len(t)\n",
    "    if m > n or t == \"\":\n",
    "        return \"\"\n",
    "    freqt = Counter(t)\n",
    "    start, end = 0, n+1\n",
    "    for length in range(1, n+1):\n",
    "        freqs = Counter()\n",
    "        satisfied = 0\n",
    "        for ch in s[:length]:\n",
    "            freqs[ch] += 1\n",
    "            if ch in freqt and freqs[ch] == freqt[ch]:\n",
    "                satisfied += 1\n",
    "        if satisfied == len(freqt) and length < end-start:\n",
    "            start, end = 0, length\n",
    "        for i in range(1, n-length+1):\n",
    "            freqs[s[i+length-1]] += 1\n",
    "            if s[i+length-1] in freqt and freqs[s[i+length-1]] == freqt[s[i+length-1]]:\n",
    "                satisfied += 1\n",
    "            if s[i-1] in freqt and freqs[s[i-1]] == freqt[s[i-1]]:\n",
    "                satisfied -= 1\n",
    "            freqs[s[i-1]] -= 1\n",
    "            if satisfied == len(freqt) and length < end-start:\n",
    "                start, end = i, i+length\n",
    "    return s[start:end] if end-start <= n else \"\"\n",
    "\n",
    "\n",
    "def min_window(s, t):\n",
    "    n, m = len(s), len(t)\n",
    "    if m > n or t == \"\":\n",
    "        return \"\"\n",
    "    freqt = Counter(t)\n",
    "    start, end = 0, n\n",
    "    satisfied = 0\n",
    "    freqs = Counter()\n",
    "    left = 0\n",
    "    for right in range(n):\n",
    "        freqs[s[right]] += 1\n",
    "        if s[right] in freqt and freqs[s[right]] == freqt[s[right]]:\n",
    "            satisfied += 1\n",
    "        if satisfied == len(freqt):\n",
    "            while s[left] not in freqt or freqs[s[left]] > freqt[s[left]]:\n",
    "                freqs[s[left]] -= 1\n",
    "                left += 1\n",
    "            if right-left+1 < end-start+1:\n",
    "                start, end = left, right\n",
    "    return s[start:end+1] if end-start+1 <= n else \"\""
   ]
  },
  {
   "cell_type": "markdown",
   "metadata": {},
   "source": [
    "# 10. Largest Rectangle in histogram"
   ]
  },
  {
   "cell_type": "code",
   "execution_count": 1,
   "metadata": {},
   "outputs": [],
   "source": [
    "def largest_rectangle(heights):\n",
    "    max_area = 0\n",
    "    for i in range(len(heights)):\n",
    "        left = i\n",
    "        while left-1 >= 0 and heights[left-1] >= heights[i]:\n",
    "            left -= 1\n",
    "        right = i\n",
    "        while right+1 < len(heights) and heights[right+1] >= heights[i]:\n",
    "            right += 1\n",
    "        max_area = max(max_area, heights[i]*(right-left+1))\n",
    "    return max_area\n",
    "\n",
    "\n",
    "def rec(heights, low, high):\n",
    "    if low > high:\n",
    "        return 0\n",
    "    elif low == high:\n",
    "        return heights[low]\n",
    "    else:\n",
    "        minh = min(heights[low:high+1])\n",
    "        pos_min = heights.index(minh, low, high+1)\n",
    "        from_left = rec(heights, low, pos_min-1)\n",
    "        from_right = rec(heights, pos_min+1, high)\n",
    "        return max(from_left, from_right, minh*(high-low+1))\n",
    "\n",
    "    \n",
    "def largest_rectangle(heights):\n",
    "    return rec(heights, 0, len(heights)-1)\n",
    "\n",
    "\n",
    "def largest_rectangle(heights):\n",
    "    heights = [-1]+heights+[-1]\n",
    "    from_left = [0]*len(heights)\n",
    "    stack = [0]\n",
    "    for i in range(1, len(heights)-1):\n",
    "        while heights[stack[-1]] >= heights[i]:\n",
    "            stack.pop()\n",
    "        from_left[i] = stack[-1]\n",
    "        stack.append(i)\n",
    "    from_right = [0]*len(heights)\n",
    "    stack = [len(heights)-1]\n",
    "    for i in range(1, len(heights)-1)[::-1]:\n",
    "        while heights[stack[-1]] >= heights[i]:\n",
    "            stack.pop()\n",
    "        from_right[i] = stack[-1]\n",
    "        stack.append(i)\n",
    "    max_area = 0\n",
    "    for i in range(1, len(heights)-1):\n",
    "        max_area = max(max_area, heights[i]*(from_right[i]-from_left[i]-1))\n",
    "    return max_area\n",
    "\n",
    "\n",
    "def largest_rectangle(heights):\n",
    "    heights = [-1]+heights+[-1]\n",
    "    max_area = 0\n",
    "    stack = [(0, -1)]\n",
    "    for i in range(1, len(heights)):\n",
    "        start = i\n",
    "        while stack[-1][1] > heights[i]:\n",
    "            top_index, top_height = stack.pop()\n",
    "            max_area = max(max_area, top_height*(i-top_index))\n",
    "            start = top_index\n",
    "        stack.append((start, heights[i]))\n",
    "    return max_area"
   ]
  }
 ],
 "metadata": {
  "interpreter": {
   "hash": "55d561055a456f0e32403ed4b66bc3d8542f791cb376f99b5b6541306cdd6dfb"
  },
  "kernelspec": {
   "display_name": "Python 3.9.9 64-bit ('py39': venv)",
   "language": "python",
   "name": "python3"
  },
  "language_info": {
   "codemirror_mode": {
    "name": "ipython",
    "version": 3
   },
   "file_extension": ".py",
   "mimetype": "text/x-python",
   "name": "python",
   "nbconvert_exporter": "python",
   "pygments_lexer": "ipython3",
   "version": "3.9.9"
  },
  "orig_nbformat": 4
 },
 "nbformat": 4,
 "nbformat_minor": 2
}
